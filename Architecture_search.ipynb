{
  "nbformat": 4,
  "nbformat_minor": 0,
  "metadata": {
    "colab": {
      "name": "Architecture search.ipynb",
      "provenance": []
    },
    "kernelspec": {
      "name": "python3",
      "display_name": "Python 3"
    },
    "language_info": {
      "name": "python"
    }
  },
  "cells": [
    {
      "cell_type": "code",
      "metadata": {
        "colab": {
          "base_uri": "https://localhost:8080/"
        },
        "id": "BSmWM2X_A_wu",
        "outputId": "6460d40c-a1cc-4f26-bffe-ef73fdd65d58"
      },
      "source": [
        "!pwd"
      ],
      "execution_count": null,
      "outputs": [
        {
          "output_type": "stream",
          "text": [
            "/content\n"
          ],
          "name": "stdout"
        }
      ]
    },
    {
      "cell_type": "code",
      "metadata": {
        "colab": {
          "base_uri": "https://localhost:8080/"
        },
        "id": "YKqa72gbBYhj",
        "outputId": "b591dc67-f4b6-4803-f22b-07468019a8db"
      },
      "source": [
        "!git clone https://github.com/nishantony/architecture-search-OS-ELM.git"
      ],
      "execution_count": null,
      "outputs": [
        {
          "output_type": "stream",
          "text": [
            "fatal: destination path 'architecture-search-OS-ELM' already exists and is not an empty directory.\n"
          ],
          "name": "stdout"
        }
      ]
    },
    {
      "cell_type": "code",
      "metadata": {
        "colab": {
          "base_uri": "https://localhost:8080/"
        },
        "id": "xMIwyjvoBffy",
        "outputId": "51573073-67fb-4af1-8e0b-31cb847d46f1"
      },
      "source": [
        "cd architecture-search-OS-ELM"
      ],
      "execution_count": null,
      "outputs": [
        {
          "output_type": "stream",
          "text": [
            "/content/architecture-search-OS-ELM\n"
          ],
          "name": "stdout"
        }
      ]
    },
    {
      "cell_type": "code",
      "metadata": {
        "colab": {
          "base_uri": "https://localhost:8080/"
        },
        "id": "ehJb7ydqBwNi",
        "outputId": "2eb3a139-3039-4b37-bcb5-8e8f2d531732"
      },
      "source": [
        "!pwd"
      ],
      "execution_count": null,
      "outputs": [
        {
          "output_type": "stream",
          "text": [
            "/content/architecture-search-OS-ELM\n"
          ],
          "name": "stdout"
        }
      ]
    },
    {
      "cell_type": "code",
      "metadata": {
        "colab": {
          "base_uri": "https://localhost:8080/"
        },
        "id": "DQGBkoHaCNuu",
        "outputId": "44135033-e30c-4e72-e72c-26bef8470c48"
      },
      "source": [
        "!pip3 install -r requirements.txt"
      ],
      "execution_count": null,
      "outputs": [
        {
          "output_type": "stream",
          "text": [
            "\u001b[31mERROR: Could not open requirements file: [Errno 2] No such file or directory: 'requirements.txt'\u001b[0m\n"
          ],
          "name": "stdout"
        }
      ]
    },
    {
      "cell_type": "code",
      "metadata": {
        "colab": {
          "base_uri": "https://localhost:8080/"
        },
        "id": "QZmVqNtwIyWh",
        "outputId": "be7d8863-2dbe-4fd0-91a3-8ef1ca166359"
      },
      "source": [
        "!pip install keras-tuner"
      ],
      "execution_count": null,
      "outputs": [
        {
          "output_type": "stream",
          "text": [
            "Requirement already satisfied: keras-tuner in /usr/local/lib/python3.7/dist-packages (1.0.3)\n",
            "Requirement already satisfied: packaging in /usr/local/lib/python3.7/dist-packages (from keras-tuner) (21.0)\n",
            "Requirement already satisfied: requests in /usr/local/lib/python3.7/dist-packages (from keras-tuner) (2.23.0)\n",
            "Requirement already satisfied: scipy in /usr/local/lib/python3.7/dist-packages (from keras-tuner) (1.4.1)\n",
            "Requirement already satisfied: numpy in /usr/local/lib/python3.7/dist-packages (from keras-tuner) (1.18.5)\n",
            "Requirement already satisfied: ipython in /usr/local/lib/python3.7/dist-packages (from keras-tuner) (5.5.0)\n",
            "Requirement already satisfied: kt-legacy in /usr/local/lib/python3.7/dist-packages (from keras-tuner) (1.0.4)\n",
            "Requirement already satisfied: tensorboard in /usr/local/lib/python3.7/dist-packages (from keras-tuner) (2.5.0)\n",
            "Requirement already satisfied: pygments in /usr/local/lib/python3.7/dist-packages (from ipython->keras-tuner) (2.6.1)\n",
            "Requirement already satisfied: prompt-toolkit<2.0.0,>=1.0.4 in /usr/local/lib/python3.7/dist-packages (from ipython->keras-tuner) (1.0.18)\n",
            "Requirement already satisfied: simplegeneric>0.8 in /usr/local/lib/python3.7/dist-packages (from ipython->keras-tuner) (0.8.1)\n",
            "Requirement already satisfied: traitlets>=4.2 in /usr/local/lib/python3.7/dist-packages (from ipython->keras-tuner) (5.0.5)\n",
            "Requirement already satisfied: decorator in /usr/local/lib/python3.7/dist-packages (from ipython->keras-tuner) (4.4.2)\n",
            "Requirement already satisfied: setuptools>=18.5 in /usr/local/lib/python3.7/dist-packages (from ipython->keras-tuner) (57.2.0)\n",
            "Requirement already satisfied: pexpect in /usr/local/lib/python3.7/dist-packages (from ipython->keras-tuner) (4.8.0)\n",
            "Requirement already satisfied: pickleshare in /usr/local/lib/python3.7/dist-packages (from ipython->keras-tuner) (0.7.5)\n",
            "Requirement already satisfied: wcwidth in /usr/local/lib/python3.7/dist-packages (from prompt-toolkit<2.0.0,>=1.0.4->ipython->keras-tuner) (0.2.5)\n",
            "Requirement already satisfied: six>=1.9.0 in /usr/local/lib/python3.7/dist-packages (from prompt-toolkit<2.0.0,>=1.0.4->ipython->keras-tuner) (1.15.0)\n",
            "Requirement already satisfied: ipython-genutils in /usr/local/lib/python3.7/dist-packages (from traitlets>=4.2->ipython->keras-tuner) (0.2.0)\n",
            "Requirement already satisfied: pyparsing>=2.0.2 in /usr/local/lib/python3.7/dist-packages (from packaging->keras-tuner) (2.4.7)\n",
            "Requirement already satisfied: ptyprocess>=0.5 in /usr/local/lib/python3.7/dist-packages (from pexpect->ipython->keras-tuner) (0.7.0)\n",
            "Requirement already satisfied: chardet<4,>=3.0.2 in /usr/local/lib/python3.7/dist-packages (from requests->keras-tuner) (3.0.4)\n",
            "Requirement already satisfied: certifi>=2017.4.17 in /usr/local/lib/python3.7/dist-packages (from requests->keras-tuner) (2021.5.30)\n",
            "Requirement already satisfied: urllib3!=1.25.0,!=1.25.1,<1.26,>=1.21.1 in /usr/local/lib/python3.7/dist-packages (from requests->keras-tuner) (1.24.3)\n",
            "Requirement already satisfied: idna<3,>=2.5 in /usr/local/lib/python3.7/dist-packages (from requests->keras-tuner) (2.10)\n",
            "Requirement already satisfied: protobuf>=3.6.0 in /usr/local/lib/python3.7/dist-packages (from tensorboard->keras-tuner) (3.17.3)\n",
            "Requirement already satisfied: werkzeug>=0.11.15 in /usr/local/lib/python3.7/dist-packages (from tensorboard->keras-tuner) (1.0.1)\n",
            "Requirement already satisfied: markdown>=2.6.8 in /usr/local/lib/python3.7/dist-packages (from tensorboard->keras-tuner) (3.3.4)\n",
            "Requirement already satisfied: tensorboard-plugin-wit>=1.6.0 in /usr/local/lib/python3.7/dist-packages (from tensorboard->keras-tuner) (1.8.0)\n",
            "Requirement already satisfied: wheel>=0.26 in /usr/local/lib/python3.7/dist-packages (from tensorboard->keras-tuner) (0.37.0)\n",
            "Requirement already satisfied: tensorboard-data-server<0.7.0,>=0.6.0 in /usr/local/lib/python3.7/dist-packages (from tensorboard->keras-tuner) (0.6.1)\n",
            "Requirement already satisfied: absl-py>=0.4 in /usr/local/lib/python3.7/dist-packages (from tensorboard->keras-tuner) (0.12.0)\n",
            "Requirement already satisfied: google-auth-oauthlib<0.5,>=0.4.1 in /usr/local/lib/python3.7/dist-packages (from tensorboard->keras-tuner) (0.4.5)\n",
            "Requirement already satisfied: google-auth<2,>=1.6.3 in /usr/local/lib/python3.7/dist-packages (from tensorboard->keras-tuner) (1.34.0)\n",
            "Requirement already satisfied: grpcio>=1.24.3 in /usr/local/lib/python3.7/dist-packages (from tensorboard->keras-tuner) (1.34.1)\n",
            "Requirement already satisfied: pyasn1-modules>=0.2.1 in /usr/local/lib/python3.7/dist-packages (from google-auth<2,>=1.6.3->tensorboard->keras-tuner) (0.2.8)\n",
            "Requirement already satisfied: cachetools<5.0,>=2.0.0 in /usr/local/lib/python3.7/dist-packages (from google-auth<2,>=1.6.3->tensorboard->keras-tuner) (4.2.2)\n",
            "Requirement already satisfied: rsa<5,>=3.1.4 in /usr/local/lib/python3.7/dist-packages (from google-auth<2,>=1.6.3->tensorboard->keras-tuner) (4.7.2)\n",
            "Requirement already satisfied: requests-oauthlib>=0.7.0 in /usr/local/lib/python3.7/dist-packages (from google-auth-oauthlib<0.5,>=0.4.1->tensorboard->keras-tuner) (1.3.0)\n",
            "Requirement already satisfied: importlib-metadata in /usr/local/lib/python3.7/dist-packages (from markdown>=2.6.8->tensorboard->keras-tuner) (4.6.3)\n",
            "Requirement already satisfied: pyasn1<0.5.0,>=0.4.6 in /usr/local/lib/python3.7/dist-packages (from pyasn1-modules>=0.2.1->google-auth<2,>=1.6.3->tensorboard->keras-tuner) (0.4.8)\n",
            "Requirement already satisfied: oauthlib>=3.0.0 in /usr/local/lib/python3.7/dist-packages (from requests-oauthlib>=0.7.0->google-auth-oauthlib<0.5,>=0.4.1->tensorboard->keras-tuner) (3.1.1)\n",
            "Requirement already satisfied: typing-extensions>=3.6.4 in /usr/local/lib/python3.7/dist-packages (from importlib-metadata->markdown>=2.6.8->tensorboard->keras-tuner) (3.7.4.3)\n",
            "Requirement already satisfied: zipp>=0.5 in /usr/local/lib/python3.7/dist-packages (from importlib-metadata->markdown>=2.6.8->tensorboard->keras-tuner) (3.5.0)\n"
          ],
          "name": "stdout"
        }
      ]
    },
    {
      "cell_type": "code",
      "metadata": {
        "colab": {
          "base_uri": "https://localhost:8080/"
        },
        "id": "D-tfbG1kCCpS",
        "outputId": "f7e6eb6b-f100-4ca1-f73c-8376d5df1808"
      },
      "source": [
        "!python3 main.py -i 1 -l 30 --method nas --epochs 30 --pop 5 --gen 10"
      ],
      "execution_count": null,
      "outputs": [
        {
          "output_type": "stream",
          "text": [
            "2021-08-16 06:06:41.230837: I tensorflow/stream_executor/platform/default/dso_loader.cc:48] Successfully opened dynamic library libcudart.so.10.1\n",
            "2.3.1\n",
            "2.3.1\n",
            "Dataset:  FD001\n",
            "Seq_len:  30\n",
            "Method:  nas\n",
            "genotype [59, 36]\n",
            "len(genotype) 2\n",
            "genotype[0]: 59, genotype[1]: 36 \n",
            "num_hidden1: 59, num_hidden2: 36 \n",
            "2021-08-16 06:06:43.802137: I tensorflow/stream_executor/platform/default/dso_loader.cc:48] Successfully opened dynamic library libcuda.so.1\n",
            "2021-08-16 06:06:43.815106: E tensorflow/stream_executor/cuda/cuda_driver.cc:314] failed call to cuInit: CUDA_ERROR_NO_DEVICE: no CUDA-capable device is detected\n",
            "2021-08-16 06:06:43.815159: I tensorflow/stream_executor/cuda/cuda_diagnostics.cc:156] kernel driver does not appear to be running on this host (7db38731b214): /proc/driver/nvidia/version does not exist\n",
            "2021-08-16 06:06:43.815606: I tensorflow/core/platform/cpu_feature_guard.cc:142] This TensorFlow binary is optimized with oneAPI Deep Neural Network Library (oneDNN)to use the following CPU instructions in performance-critical operations:  AVX2 FMA\n",
            "To enable them in other operations, rebuild TensorFlow with the appropriate compiler flags.\n",
            "2021-08-16 06:06:43.821368: I tensorflow/core/platform/profile_utils/cpu_utils.cc:104] CPU Frequency: 2299995000 Hz\n",
            "2021-08-16 06:06:43.821619: I tensorflow/compiler/xla/service/service.cc:168] XLA service 0x55fdba7f9dc0 initialized for platform Host (this does not guarantee that XLA will be used). Devices:\n",
            "2021-08-16 06:06:43.821656: I tensorflow/compiler/xla/service/service.cc:176]   StreamExecutor device (0): Host, Default Version\n",
            "Initializing network...\n",
            "<Figure size 1000x1000 with 1 Axes>\n",
            "training network is successfully completed, time:  18.178588151931763\n",
            "fitness:  19.6682\n",
            "genotype [15, 26]\n",
            "len(genotype) 2\n",
            "genotype[0]: 15, genotype[1]: 26 \n",
            "num_hidden1: 15, num_hidden2: 15 \n",
            "Initializing network...\n",
            "<Figure size 640x480 with 0 Axes>\n",
            "<Figure size 1000x1000 with 1 Axes>\n",
            "training network is successfully completed, time:  14.029415607452393\n",
            "fitness:  19.5768\n",
            "genotype [75, 41]\n",
            "len(genotype) 2\n",
            "genotype[0]: 75, genotype[1]: 41 \n",
            "num_hidden1: 75, num_hidden2: 41 \n",
            "Initializing network...\n",
            "<Figure size 640x480 with 0 Axes>\n",
            "<Figure size 1000x1000 with 1 Axes>\n",
            "training network is successfully completed, time:  19.846017837524414\n",
            "fitness:  21.2355\n",
            "genotype [61, 29]\n",
            "len(genotype) 2\n",
            "genotype[0]: 61, genotype[1]: 29 \n",
            "num_hidden1: 61, num_hidden2: 29 \n",
            "Initializing network...\n",
            "<Figure size 640x480 with 0 Axes>\n",
            "<Figure size 1000x1000 with 1 Axes>\n",
            "training network is successfully completed, time:  17.84381651878357\n",
            "fitness:  20.2176\n",
            "genotype [71, 32]\n",
            "len(genotype) 2\n",
            "genotype[0]: 71, genotype[1]: 32 \n",
            "num_hidden1: 71, num_hidden2: 32 \n",
            "Initializing network...\n",
            "<Figure size 640x480 with 0 Axes>\n",
            "<Figure size 1000x1000 with 1 Axes>\n",
            "training network is successfully completed, time:  18.686450004577637\n",
            "fitness:  19.8922\n",
            "gen\tnevals\tavg    \tstd     \tmin    \tmax    \n",
            "0  \t5     \t20.1181\t0.600821\t19.5768\t21.2355\n",
            "population saved\n",
            "population [[15, 26], [15, 26], [71, 32], [61, 29], [71, 32]]\n",
            "[19.5768, 19.5768, 19.8922, 20.2176, 19.8922]\n",
            "min: 19.5768, max:20.2176, avg:19.831120000000002\n",
            "1  \t0     \t19.8311\t0.239243\t19.5768\t20.2176\n",
            "genotype [65, 26]\n",
            "len(genotype) 2\n",
            "genotype[0]: 65, genotype[1]: 26 \n",
            "num_hidden1: 65, num_hidden2: 26 \n",
            "Initializing network...\n",
            "<Figure size 640x480 with 0 Axes>\n",
            "<Figure size 1000x1000 with 1 Axes>\n",
            "training network is successfully completed, time:  18.469626665115356\n",
            "fitness:  19.5534\n",
            "population saved\n",
            "population [[15, 26], [65, 26], [71, 32], [71, 32], [71, 32]]\n",
            "[19.5768, 19.5534, 19.8922, 19.8922, 19.8922]\n",
            "min: 19.5534, max:19.8922, avg:19.761360000000003\n",
            "2  \t1     \t19.7614\t0.160416\t19.5534\t19.8922\n",
            "population saved\n",
            "population [[65, 26], [65, 26], [71, 32], [71, 32], [71, 32]]\n",
            "[19.5534, 19.5534, 19.8922, 19.8922, 19.8922]\n",
            "min: 19.5534, max:19.8922, avg:19.75668\n",
            "3  \t0     \t19.7567\t0.165977\t19.5534\t19.8922\n",
            "genotype [65, 28]\n",
            "len(genotype) 2\n",
            "genotype[0]: 65, genotype[1]: 28 \n",
            "num_hidden1: 65, num_hidden2: 28 \n",
            "Initializing network...\n",
            "<Figure size 640x480 with 0 Axes>\n",
            "<Figure size 1000x1000 with 1 Axes>\n",
            "training network is successfully completed, time:  18.57310199737549\n",
            "fitness:  21.4638\n",
            "genotype [50, 32]\n",
            "len(genotype) 2\n",
            "genotype[0]: 50, genotype[1]: 32 \n",
            "num_hidden1: 50, num_hidden2: 32 \n",
            "Initializing network...\n",
            "<Figure size 640x480 with 0 Axes>\n",
            "<Figure size 1000x1000 with 1 Axes>\n",
            "training network is successfully completed, time:  17.27711319923401\n",
            "fitness:  18.569\n",
            "genotype [71, 25]\n",
            "len(genotype) 2\n",
            "genotype[0]: 71, genotype[1]: 25 \n",
            "num_hidden1: 71, num_hidden2: 25 \n",
            "Initializing network...\n",
            "<Figure size 640x480 with 0 Axes>\n",
            "<Figure size 1000x1000 with 1 Axes>\n",
            "training network is successfully completed, time:  18.904190063476562\n",
            "fitness:  18.6735\n",
            "population saved\n",
            "population [[65, 26], [65, 26], [50, 32], [71, 32], [71, 25]]\n",
            "[19.5534, 19.5534, 18.569, 19.8922, 18.6735]\n",
            "min: 18.569, max:19.8922, avg:19.2483\n",
            "4  \t3     \t19.2483\t0.527754\t18.569 \t19.8922\n",
            "population saved\n",
            "population [[50, 32], [71, 25], [50, 32], [65, 26], [71, 25]]\n",
            "[18.569, 18.6735, 18.569, 19.5534, 18.6735]\n",
            "min: 18.569, max:19.5534, avg:18.807679999999998\n",
            "5  \t0     \t18.8077\t0.375777\t18.569 \t19.5534\n",
            "genotype [50, 18]\n",
            "len(genotype) 2\n",
            "genotype[0]: 50, genotype[1]: 18 \n",
            "num_hidden1: 50, num_hidden2: 18 \n",
            "Initializing network...\n",
            "<Figure size 640x480 with 0 Axes>\n",
            "<Figure size 1000x1000 with 1 Axes>\n",
            "training network is successfully completed, time:  17.859379529953003\n",
            "fitness:  20.0263\n",
            "population saved\n",
            "population [[50, 32], [71, 25], [50, 32], [71, 25], [71, 25]]\n",
            "[18.569, 18.6735, 18.569, 18.6735, 18.6735]\n",
            "min: 18.569, max:18.6735, avg:18.631700000000002\n",
            "6  \t1     \t18.6317\t0.0511943\t18.569 \t18.6735\n",
            "genotype [50, 40]\n",
            "len(genotype) 2\n",
            "genotype[0]: 50, genotype[1]: 40 \n",
            "num_hidden1: 50, num_hidden2: 40 \n",
            "Initializing network...\n",
            "<Figure size 640x480 with 0 Axes>\n",
            "<Figure size 1000x1000 with 1 Axes>\n",
            "training network is successfully completed, time:  17.934804439544678\n",
            "fitness:  19.1798\n",
            "population saved\n",
            "population [[50, 32], [71, 25], [50, 32], [71, 25], [71, 25]]\n",
            "[18.569, 18.6735, 18.569, 18.6735, 18.6735]\n",
            "min: 18.569, max:18.6735, avg:18.631700000000002\n",
            "7  \t1     \t18.6317\t0.0511943\t18.569 \t18.6735\n",
            "population saved\n",
            "population [[50, 32], [50, 32], [50, 32], [71, 25], [71, 25]]\n",
            "[18.569, 18.569, 18.569, 18.6735, 18.6735]\n",
            "min: 18.569, max:18.6735, avg:18.6108\n",
            "8  \t0     \t18.6108\t0.0511943\t18.569 \t18.6735\n",
            "genotype [31, 32]\n",
            "len(genotype) 2\n",
            "genotype[0]: 31, genotype[1]: 32 \n",
            "num_hidden1: 31, num_hidden2: 31 \n",
            "Initializing network...\n",
            "<Figure size 640x480 with 0 Axes>\n",
            "<Figure size 1000x1000 with 1 Axes>\n",
            "training network is successfully completed, time:  15.723649024963379\n",
            "fitness:  18.6329\n",
            "genotype [99, 50]\n",
            "len(genotype) 2\n",
            "genotype[0]: 99, genotype[1]: 50 \n",
            "num_hidden1: 99, num_hidden2: 50 \n",
            "Initializing network...\n",
            "<Figure size 640x480 with 0 Axes>\n",
            "<Figure size 1000x1000 with 1 Axes>\n",
            "training network is successfully completed, time:  22.62675952911377\n",
            "fitness:  20.566\n",
            "population saved\n",
            "population [[50, 32], [50, 32], [50, 32], [71, 25], [71, 25]]\n",
            "[18.569, 18.569, 18.569, 18.6735, 18.6735]\n",
            "min: 18.569, max:18.6735, avg:18.6108\n",
            "9  \t2     \t18.6108\t0.0511943\t18.569 \t18.6735\n",
            "genotype [50, 25]\n",
            "len(genotype) 2\n",
            "genotype[0]: 50, genotype[1]: 25 \n",
            "num_hidden1: 50, num_hidden2: 25 \n",
            "Initializing network...\n",
            "<Figure size 640x480 with 0 Axes>\n",
            "<Figure size 1000x1000 with 1 Axes>\n",
            "training network is successfully completed, time:  17.18927502632141\n",
            "fitness:  17.7523\n",
            "genotype [33, 25]\n",
            "len(genotype) 2\n",
            "genotype[0]: 33, genotype[1]: 25 \n",
            "num_hidden1: 33, num_hidden2: 25 \n",
            "Initializing network...\n",
            "<Figure size 640x480 with 0 Axes>\n",
            "<Figure size 1000x1000 with 1 Axes>\n",
            "training network is successfully completed, time:  15.947952032089233\n",
            "fitness:  18.1191\n",
            "population saved\n",
            "population [[50, 32], [50, 32], [50, 25], [71, 25], [33, 25]]\n",
            "[18.569, 18.569, 17.7523, 18.6735, 18.1191]\n",
            "min: 17.7523, max:18.6735, avg:18.33658\n",
            "10 \t2     \t18.3366\t0.349352 \t17.7523\t18.6735\n",
            "pickle dump\n",
            "log saved\n",
            "Best individual:\n",
            "[50, 25]\n",
            "Best individual is saved\n",
            "EA time:  284.0412845611572\n",
            "Evaluate the best individual\n",
            "<Figure size 640x480 with 0 Axes>\n",
            "<Figure size 1500x1500 with 14 Axes>\n",
            "<Figure size 1500x1500 with 14 Axes>\n",
            "train_samples.shape:  (17631, 420)\n",
            "label_array_train.shape:  (17631, 1)\n",
            "test_samples.shape:  (100, 420)\n",
            "label_array_test.shape:  (100, 1)\n",
            "Initializing network...\n",
            "Epoch 1/51\n",
            "551/551 [==============================] - 5s 9ms/step - loss: 31.3016 - mean_squared_error: 1934.5986\n",
            "Epoch 2/51\n",
            "551/551 [==============================] - 5s 9ms/step - loss: 16.4772 - mean_squared_error: 479.6803\n",
            "Epoch 3/51\n",
            "551/551 [==============================] - 5s 8ms/step - loss: 15.5510 - mean_squared_error: 430.7322\n",
            "Epoch 4/51\n",
            "551/551 [==============================] - 5s 8ms/step - loss: 14.8974 - mean_squared_error: 396.2668\n",
            "Epoch 5/51\n",
            "551/551 [==============================] - 5s 9ms/step - loss: 14.4801 - mean_squared_error: 375.6911\n",
            "Epoch 6/51\n",
            "551/551 [==============================] - 5s 9ms/step - loss: 14.1935 - mean_squared_error: 361.8150\n",
            "Epoch 7/51\n",
            "551/551 [==============================] - 5s 9ms/step - loss: 13.9015 - mean_squared_error: 347.9280\n",
            "Epoch 8/51\n",
            "551/551 [==============================] - 5s 9ms/step - loss: 13.6877 - mean_squared_error: 337.5691\n",
            "Epoch 9/51\n",
            "551/551 [==============================] - 5s 8ms/step - loss: 13.4990 - mean_squared_error: 328.6454\n",
            "Epoch 10/51\n",
            "551/551 [==============================] - 5s 9ms/step - loss: 13.3554 - mean_squared_error: 322.4845\n",
            "Epoch 11/51\n",
            "551/551 [==============================] - 5s 9ms/step - loss: 13.2023 - mean_squared_error: 315.9111\n",
            "Epoch 12/51\n",
            "551/551 [==============================] - 5s 9ms/step - loss: 13.1142 - mean_squared_error: 312.6412\n",
            "Epoch 13/51\n",
            "551/551 [==============================] - 5s 9ms/step - loss: 12.9994 - mean_squared_error: 308.8326\n",
            "Epoch 14/51\n",
            "551/551 [==============================] - 5s 9ms/step - loss: 12.9059 - mean_squared_error: 305.1742\n",
            "Epoch 15/51\n",
            "551/551 [==============================] - 5s 9ms/step - loss: 12.8370 - mean_squared_error: 302.7328\n",
            "Epoch 16/51\n",
            "551/551 [==============================] - 5s 8ms/step - loss: 12.7379 - mean_squared_error: 298.7304\n",
            "Epoch 17/51\n",
            "551/551 [==============================] - 5s 9ms/step - loss: 12.6306 - mean_squared_error: 295.0602\n",
            "Epoch 18/51\n",
            "551/551 [==============================] - 5s 9ms/step - loss: 12.5315 - mean_squared_error: 291.8982\n",
            "Epoch 19/51\n",
            "551/551 [==============================] - 5s 9ms/step - loss: 12.4427 - mean_squared_error: 288.8632\n",
            "Epoch 20/51\n",
            "551/551 [==============================] - 5s 9ms/step - loss: 12.3752 - mean_squared_error: 287.1492\n",
            "Epoch 21/51\n",
            "551/551 [==============================] - 5s 9ms/step - loss: 12.3025 - mean_squared_error: 283.9033\n",
            "Epoch 22/51\n",
            "551/551 [==============================] - 5s 8ms/step - loss: 12.1933 - mean_squared_error: 279.9006\n",
            "Epoch 23/51\n",
            "551/551 [==============================] - 5s 9ms/step - loss: 12.1275 - mean_squared_error: 277.8695\n",
            "Epoch 24/51\n",
            "551/551 [==============================] - 5s 8ms/step - loss: 12.0713 - mean_squared_error: 276.6066\n",
            "Epoch 25/51\n",
            "551/551 [==============================] - 5s 9ms/step - loss: 12.0125 - mean_squared_error: 273.8500\n",
            "Epoch 26/51\n",
            "551/551 [==============================] - 5s 9ms/step - loss: 11.9646 - mean_squared_error: 271.9907\n",
            "Epoch 27/51\n",
            "551/551 [==============================] - 5s 9ms/step - loss: 11.8610 - mean_squared_error: 268.8863\n",
            "Epoch 28/51\n",
            "551/551 [==============================] - 5s 8ms/step - loss: 11.8572 - mean_squared_error: 269.1457\n",
            "Epoch 29/51\n",
            "551/551 [==============================] - 5s 9ms/step - loss: 11.8261 - mean_squared_error: 268.4169\n",
            "Epoch 30/51\n",
            "551/551 [==============================] - 5s 8ms/step - loss: 11.7247 - mean_squared_error: 265.0556\n",
            "Epoch 31/51\n",
            "551/551 [==============================] - 5s 9ms/step - loss: 11.7018 - mean_squared_error: 265.2235\n",
            "Epoch 32/51\n",
            "551/551 [==============================] - 5s 9ms/step - loss: 11.6837 - mean_squared_error: 264.6162\n",
            "Epoch 33/51\n",
            "551/551 [==============================] - 5s 9ms/step - loss: 11.6521 - mean_squared_error: 263.9806\n",
            "Epoch 34/51\n",
            "551/551 [==============================] - 5s 9ms/step - loss: 11.6177 - mean_squared_error: 262.6813\n",
            "Epoch 35/51\n",
            "551/551 [==============================] - 5s 8ms/step - loss: 11.5176 - mean_squared_error: 259.6877\n",
            "Epoch 36/51\n",
            "551/551 [==============================] - 5s 9ms/step - loss: 11.5272 - mean_squared_error: 259.4270\n",
            "Epoch 37/51\n",
            "551/551 [==============================] - 5s 8ms/step - loss: 11.4043 - mean_squared_error: 256.5028\n",
            "Epoch 38/51\n",
            "551/551 [==============================] - 5s 9ms/step - loss: 11.3939 - mean_squared_error: 256.7990\n",
            "Epoch 39/51\n",
            "551/551 [==============================] - 5s 9ms/step - loss: 11.3898 - mean_squared_error: 256.1046\n",
            "Epoch 40/51\n",
            "551/551 [==============================] - 5s 8ms/step - loss: 11.2949 - mean_squared_error: 253.5004\n",
            "Epoch 41/51\n",
            "551/551 [==============================] - 5s 8ms/step - loss: 11.2805 - mean_squared_error: 253.4072\n",
            "Epoch 42/51\n",
            "551/551 [==============================] - 5s 9ms/step - loss: 11.2402 - mean_squared_error: 252.8305\n",
            "Epoch 43/51\n",
            "551/551 [==============================] - 5s 9ms/step - loss: 11.1825 - mean_squared_error: 250.8025\n",
            "Epoch 44/51\n",
            "551/551 [==============================] - 5s 9ms/step - loss: 11.2359 - mean_squared_error: 252.3313\n",
            "Epoch 45/51\n",
            "551/551 [==============================] - 5s 9ms/step - loss: 11.1607 - mean_squared_error: 249.9756\n",
            "Epoch 46/51\n",
            "551/551 [==============================] - 5s 9ms/step - loss: 11.1432 - mean_squared_error: 249.8249\n",
            "Epoch 47/51\n",
            "551/551 [==============================] - 5s 9ms/step - loss: 10.9848 - mean_squared_error: 244.8111\n",
            "Epoch 48/51\n",
            "551/551 [==============================] - 5s 9ms/step - loss: 10.9940 - mean_squared_error: 245.4868\n",
            "Epoch 49/51\n",
            "551/551 [==============================] - 5s 9ms/step - loss: 10.9863 - mean_squared_error: 244.8569\n",
            "Epoch 50/51\n",
            "551/551 [==============================] - 5s 9ms/step - loss: 10.9414 - mean_squared_error: 245.0090\n",
            "Epoch 51/51\n",
            "551/551 [==============================] - 5s 9ms/step - loss: 10.8939 - mean_squared_error: 242.6740\n",
            "2021-08-16 06:17:47.731354: W tensorflow/python/util/util.cc:348] Sets are not currently considered sequences, but this may change in the future, so consider avoiding using them.\n",
            "Traceback (most recent call last):\n",
            "  File \"main.py\", line 317, in <module>\n",
            "    main()\n",
            "  File \"main.py\", line 298, in main\n",
            "    a,b = implement_nas(train_samples, label_array_train, test_samples, label_array_test, verbose=verbose, max_trials=5)\n",
            "  File \"main.py\", line 247, in implement_nas\n",
            "    rms = metrics.mean_squared_error(test_samples, label_array_test, squared=False)\n",
            "  File \"/usr/local/lib/python3.7/dist-packages/sklearn/utils/validation.py\", line 73, in inner_f\n",
            "    return f(**kwargs)\n",
            "  File \"/usr/local/lib/python3.7/dist-packages/sklearn/metrics/_regression.py\", line 254, in mean_squared_error\n",
            "    y_true, y_pred, multioutput)\n",
            "  File \"/usr/local/lib/python3.7/dist-packages/sklearn/metrics/_regression.py\", line 96, in _check_reg_targets\n",
            "    \"({0}!={1})\".format(y_true.shape[1], y_pred.shape[1]))\n",
            "ValueError: y_true and y_pred have different number of output (420!=1)\n"
          ],
          "name": "stdout"
        }
      ]
    }
  ]
}